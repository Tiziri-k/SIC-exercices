{
  "nbformat": 4,
  "nbformat_minor": 0,
  "metadata": {
    "kernelspec": {
      "display_name": "Python 3",
      "language": "python",
      "name": "python3"
    },
    "language_info": {
      "codemirror_mode": {
        "name": "ipython",
        "version": 3
      },
      "file_extension": ".py",
      "mimetype": "text/x-python",
      "name": "python",
      "nbconvert_exporter": "python",
      "pygments_lexer": "ipython3",
      "version": "3.7.0"
    },
    "toc": {
      "base_numbering": 1,
      "nav_menu": {},
      "number_sections": true,
      "sideBar": true,
      "skip_h1_title": false,
      "title_cell": "Table of Contents",
      "title_sidebar": "Contents",
      "toc_cell": false,
      "toc_position": {},
      "toc_section_display": true,
      "toc_window_display": false
    },
    "varInspector": {
      "cols": {
        "lenName": 16,
        "lenType": 16,
        "lenVar": 40
      },
      "kernels_config": {
        "python": {
          "delete_cmd_postfix": "",
          "delete_cmd_prefix": "del ",
          "library": "var_list.py",
          "varRefreshCmd": "print(var_dic_list())"
        },
        "r": {
          "delete_cmd_postfix": ") ",
          "delete_cmd_prefix": "rm(",
          "library": "var_list.r",
          "varRefreshCmd": "cat(var_dic_list()) "
        }
      },
      "types_to_exclude": [
        "module",
        "function",
        "builtin_function_or_method",
        "instance",
        "_Feature"
      ],
      "window_display": false
    },
    "colab": {
      "name": "problem_0402.ipynb",
      "provenance": [],
      "collapsed_sections": [],
      "include_colab_link": true
    }
  },
  "cells": [
    {
      "cell_type": "markdown",
      "metadata": {
        "id": "view-in-github",
        "colab_type": "text"
      },
      "source": [
        "<a href=\"https://colab.research.google.com/github/Tiziri-k/SIC-exercices/blob/master/OLS%20methode%5Cproblem_0402.ipynb\" target=\"_parent\"><img src=\"https://colab.research.google.com/assets/colab-badge.svg\" alt=\"Open In Colab\"/></a>"
      ]
    },
    {
      "cell_type": "markdown",
      "metadata": {
        "id": "SJFZz3wtKI49"
      },
      "source": [
        "## Quiz #0402"
      ]
    },
    {
      "cell_type": "markdown",
      "metadata": {
        "id": "HHEC5rMHKI5E"
      },
      "source": [
        "### \"OLS solution\""
      ]
    },
    {
      "cell_type": "code",
      "metadata": {
        "id": "KZU4q3XaKI5H"
      },
      "source": [
        "import numpy as np\n",
        "import pandas as pd"
      ],
      "execution_count": 2,
      "outputs": []
    },
    {
      "cell_type": "markdown",
      "metadata": {
        "id": "IyD-dWz7KI5K"
      },
      "source": [
        "#### Answer the following question by providing Python code:\n",
        "<br>\n",
        "study = an array that contains the hours of study. This is the explanatory variable. <br>\n",
        "score = an array that contains the test scores. This is the response variable."
      ]
    },
    {
      "cell_type": "code",
      "metadata": {
        "colab": {
          "base_uri": "https://localhost:8080/"
        },
        "id": "RMPMRLQcKI5L",
        "outputId": "ab6edf21-f157-4b8d-e6c6-4df8360bb9d5"
      },
      "source": [
        "study = np.array([ 3, 4.5, 6, 1.2, 2, 6.9, 6.7, 5.5]).reshape(-1,1)\n",
        "score = np.array([ 88, 85, 90, 80, 81, 92, 95, 90]).reshape(-1,1)\n",
        "score[0], study[0]"
      ],
      "execution_count": 118,
      "outputs": [
        {
          "output_type": "execute_result",
          "data": {
            "text/plain": [
              "(array([88]), array([3.]))"
            ]
          },
          "metadata": {
            "tags": []
          },
          "execution_count": 118
        }
      ]
    },
    {
      "cell_type": "markdown",
      "metadata": {
        "id": "CtfsBAdXKI5M"
      },
      "source": [
        "1). Define the 'linerRegression' class to match the output shown below:"
      ]
    },
    {
      "cell_type": "code",
      "metadata": {
        "id": "R5Xl-Q1WKI5N"
      },
      "source": [
        "class linearRegression:\n",
        "    def __init__(self, lr = 0.001 , number_iter=1000):\n",
        "      self.lr = lr\n",
        "      self.number_iter = number_iter\n",
        "      self.weight= None\n",
        "      self.bias =None\n",
        "\n",
        "    def train(self, input_X, input_Y):\n",
        "      n_sample, n_feature = input_X.shape\n",
        "      self.weight = np.zeros(n_feature)\n",
        "      self.bias  =0 \n",
        "      for i in range(self.number_iter):\n",
        "          y_predict = np.dot(input_X, self.weight)+ self.bias\n",
        "          dw = (1/n_sample)* np.dot(input_X.T,(y_predict - input_Y))\n",
        "          db = (1/n_sample)* np.sum(y_predict-input_Y)    \n",
        "          self.weight =self.weight- self.lr *dw\n",
        "          self.bias = self.bias- self.lr* db \n",
        "    \n",
        "    def output(self, input_X,input_y):\n",
        "       y_predict = np.dot(input_X, self.weight)+ self.bias\n",
        "       ##########intercept\n",
        "       x_mean = input_X.mean()\n",
        "       y_mean = input_y.mean()\n",
        "       B1 =((input_X - x_mean) * (input_y - y_mean)).sum() / ((input_X - x_mean)**2).sum()\n",
        "       B0 = y_mean - (B1*x_mean)\n",
        "       print('Intercept  : ',B0)\n",
        "\n",
        "       ########## x1\n",
        "       x = np.sum(input_X**(-1))-((input_X**(-1)).mean())\n",
        "       print('x1',x) \n",
        "\n",
        "       ########## R^2\n",
        "       R = 1-(np.sum((input_y- y_predict)**2 ))/ (np.sum(y_predict - input_y)**2)\n",
        "       print('R^2 : ', R)\n",
        "      \n"
      ],
      "execution_count": 175,
      "outputs": []
    },
    {
      "cell_type": "markdown",
      "metadata": {
        "id": "zMF2gI4UKI5P"
      },
      "source": [
        "**Sample run:**"
      ]
    },
    {
      "cell_type": "code",
      "metadata": {
        "id": "bdOLiU0CKI5R"
      },
      "source": [
        "LR = linearRegression()                    # Create a linear regression object.\n",
        "LR.train(study, score)                     # Train.\n",
        "LR.output()                                # Display the training result."
      ],
      "execution_count": null,
      "outputs": []
    },
    {
      "cell_type": "code",
      "metadata": {
        "colab": {
          "base_uri": "https://localhost:8080/"
        },
        "id": "1YFdEoBmKI5W",
        "outputId": "18f4d710-7b8f-49bf-da25-c92b0c36db71"
      },
      "source": [
        "LR = linearRegression()                \n",
        "LR.train(study,score)                     \n",
        "LR.output(study, score)      \n",
        "                     "
      ],
      "execution_count": 176,
      "outputs": [
        {
          "output_type": "stream",
          "text": [
            "Intercept  :  77.68466977583873\n",
            "x1 2.215110629330292\n",
            "R^2 :  0.8393803890082304\n"
          ],
          "name": "stdout"
        }
      ]
    }
  ]
}