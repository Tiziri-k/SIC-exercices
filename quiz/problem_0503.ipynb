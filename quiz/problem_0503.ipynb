{
  "nbformat": 4,
  "nbformat_minor": 0,
  "metadata": {
    "kernelspec": {
      "display_name": "Python 3",
      "language": "python",
      "name": "python3"
    },
    "language_info": {
      "codemirror_mode": {
        "name": "ipython",
        "version": 3
      },
      "file_extension": ".py",
      "mimetype": "text/x-python",
      "name": "python",
      "nbconvert_exporter": "python",
      "pygments_lexer": "ipython3",
      "version": "3.7.0"
    },
    "toc": {
      "base_numbering": 1,
      "nav_menu": {},
      "number_sections": true,
      "sideBar": true,
      "skip_h1_title": false,
      "title_cell": "Table of Contents",
      "title_sidebar": "Contents",
      "toc_cell": false,
      "toc_position": {},
      "toc_section_display": true,
      "toc_window_display": false
    },
    "varInspector": {
      "cols": {
        "lenName": 16,
        "lenType": 16,
        "lenVar": 40
      },
      "kernels_config": {
        "python": {
          "delete_cmd_postfix": "",
          "delete_cmd_prefix": "del ",
          "library": "var_list.py",
          "varRefreshCmd": "print(var_dic_list())"
        },
        "r": {
          "delete_cmd_postfix": ") ",
          "delete_cmd_prefix": "rm(",
          "library": "var_list.r",
          "varRefreshCmd": "cat(var_dic_list()) "
        }
      },
      "types_to_exclude": [
        "module",
        "function",
        "builtin_function_or_method",
        "instance",
        "_Feature"
      ],
      "window_display": false
    },
    "colab": {
      "name": "problem_0503.ipynb",
      "provenance": [],
      "collapsed_sections": [],
      "include_colab_link": true
    }
  },
  "cells": [
    {
      "cell_type": "markdown",
      "metadata": {
        "id": "view-in-github",
        "colab_type": "text"
      },
      "source": [
        "<a href=\"https://colab.research.google.com/github/Tiziri-k/SIC-exercices/blob/master/quiz/problem_0503.ipynb\" target=\"_parent\"><img src=\"https://colab.research.google.com/assets/colab-badge.svg\" alt=\"Open In Colab\"/></a>"
      ]
    },
    {
      "cell_type": "markdown",
      "metadata": {
        "id": "kQ_weyUo8uaU"
      },
      "source": [
        "## Quiz #0503"
      ]
    },
    {
      "cell_type": "markdown",
      "metadata": {
        "id": "Y1F1xv4V8uaV"
      },
      "source": [
        "### \"Data Augmentation\""
      ]
    },
    {
      "cell_type": "markdown",
      "metadata": {
        "id": "BeogGcIY8uaZ"
      },
      "source": [
        "#### Answer the following questions by providing Python code:\n",
        "#### Objectives:\n",
        "- Code the helper functions.\n",
        "- Optimize and test a predictive model of your choice.\n",
        "- Carry out data aumentation in order to improve the predictive accuracy when the given training data is small."
      ]
    },
    {
      "cell_type": "code",
      "metadata": {
        "id": "rp_Z4b_-8uab"
      },
      "source": [
        "import numpy as np\n",
        "import pandas as pd\n",
        "import os\n",
        "import warnings\n",
        "import matplotlib.pyplot as plt\n",
        "from sklearn.model_selection import GridSearchCV\n",
        "from sklearn.neighbors import KNeighborsClassifier\n",
        "from sklearn.tree import DecisionTreeClassifier\n",
        "from sklearn.ensemble import RandomForestClassifier,AdaBoostClassifier, GradientBoostingClassifier\n",
        "from xgboost import XGBClassifier\n",
        "from sklearn import metrics, preprocessing\n",
        "warnings.filterwarnings(action='ignore')                  # Turn off the warnings.\n",
        "%matplotlib inline"
      ],
      "execution_count": null,
      "outputs": []
    },
    {
      "cell_type": "markdown",
      "metadata": {
        "id": "joh9JIZp8uad"
      },
      "source": [
        "#### Read in data:\n",
        "The explanation on the original data can be found [here](http://yann.lecun.com/exdb/mnist/).\n",
        "\n",
        "- The data we will be using is a small subset of the original data with only 100 observations.\n",
        "- Each observation is the \"flattened\" version of a image.\n",
        "- The first column corresponds to the label (Y).\n",
        "- The image size is 28x28."
      ]
    },
    {
      "cell_type": "code",
      "metadata": {
        "id": "E_E7fck38uad"
      },
      "source": [
        "# Read the training and testing data separately.\n",
        "data_train = pd.read_csv('data_mnist_train_100.csv', header=None,encoding='latin1')\n",
        "data_test = pd.read_csv('data_mnist_test_100.csv', header=None,encoding='latin1')\n",
        "\n",
        "# Scale and split the data set into X and Y.\n",
        "X_train = np.array((data_train.iloc[:,1:]/255.0)*0.99+0.01)\n",
        "X_test = np.array((data_test.iloc[:,1:]/255.0)*0.99+0.01)\n",
        "Y_train = np.array(data_train.iloc[:,0])\n",
        "Y_test = np.array(data_test.iloc[:,0])"
      ],
      "execution_count": null,
      "outputs": []
    },
    {
      "cell_type": "markdown",
      "metadata": {
        "id": "ZMt12kF48uae"
      },
      "source": [
        "1). Code the helper function 'show_data()' that visualizes each given observation. HINT: use matplotlib.pyplot.imshow() and scipy.ndimage.interpolation()."
      ]
    },
    {
      "cell_type": "code",
      "metadata": {
        "id": "6D9qwy4H8uaf"
      },
      "source": [
        "def show_data(X, Y, n, angle=0):\n",
        "    img = X[n].reshape((28,28))\n",
        "    img=rotate(img, angle)\n",
        "    plt.imshow(img, cmap=\"Greys\")\n",
        "    plt.show()"
      ],
      "execution_count": null,
      "outputs": []
    },
    {
      "cell_type": "code",
      "metadata": {
        "id": "PiQWagYG8uaf",
        "colab": {
          "base_uri": "https://localhost:8080/",
          "height": 266
        },
        "outputId": "05bfe10b-7a52-4805-8fd4-1d7ded518f61"
      },
      "source": [
        "# Example 1.\n",
        "show_data(X_train, Y_train,10,+10)"
      ],
      "execution_count": null,
      "outputs": [
        {
          "output_type": "display_data",
          "data": {
            "image/png": "[encoded data removed]",
            "text/plain": [
              "<Figure size 432x288 with 1 Axes>"
            ]
          },
          "metadata": {
            "needs_background": "light"
          }
        }
      ]
    },
    {
      "cell_type": "code",
      "metadata": {
        "id": "gqywn1wO8uag",
        "colab": {
          "base_uri": "https://localhost:8080/",
          "height": 266
        },
        "outputId": "7dc3b44b-5ce6-4f2c-8229-9c85a6892c4e"
      },
      "source": [
        "# Example 2.\n",
        "show_data(X_train, Y_train,10,-30)"
      ],
      "execution_count": null,
      "outputs": [
        {
          "output_type": "display_data",
          "data": {
            "image/png": "[encoded data removed]",
            "text/plain": [
              "<Figure size 432x288 with 1 Axes>"
            ]
          },
          "metadata": {
            "needs_background": "light"
          }
        }
      ]
    },
    {
      "cell_type": "code",
      "metadata": {
        "id": "RHI8G-TC8uah",
        "colab": {
          "base_uri": "https://localhost:8080/",
          "height": 265
        },
        "outputId": "82d9a765-f867-4535-a6fb-e58f3004dbe0"
      },
      "source": [
        "# Example 3.\n",
        "show_data(X_train, Y_train,77,0)"
      ],
      "execution_count": null,
      "outputs": [
        {
          "output_type": "display_data",
          "data": {
            "image/png": "[encoded data removed]",
            "text/plain": [
              "<Figure size 432x288 with 1 Axes>"
            ]
          },
          "metadata": {
            "needs_background": "light"
          }
        }
      ]
    },
    {
      "cell_type": "markdown",
      "metadata": {
        "id": "Pzwgg4Zd8uah"
      },
      "source": [
        "2). Choose an algorithm and carry out the predictive analysis.\n",
        "\n",
        "- Optimize the hyperparameter(s).\n",
        "- Calculate the accuracy.\n",
        "- Is the accuracy high enough?"
      ]
    },
    {
      "cell_type": "code",
      "metadata": {
        "colab": {
          "base_uri": "https://localhost:8080/"
        },
        "id": "GQNfbzeq0GtW",
        "outputId": "fbb6bfb8-7ebb-4940-bd9a-53136048aa81"
      },
      "source": [
        "from sklearn.model_selection import cross_val_score\n",
        "l = [XGBClassifier(),KNeighborsClassifier(),DecisionTreeClassifier()]\n",
        "score=[]\n",
        "\n",
        "for i in l :\n",
        "    m=cross_val_score(i,X_train, Y_train, cv=5).mean()\n",
        "    print('accuray mean : ',m)"
      ],
      "execution_count": null,
      "outputs": [
        {
          "output_type": "stream",
          "text": [
            "accuray mean :  0.6499999999999999\n",
            "accuray mean :  0.74\n",
            "accuray mean :  0.47000000000000003\n"
          ],
          "name": "stdout"
        }
      ]
    },
    {
      "cell_type": "code",
      "metadata": {
        "colab": {
          "base_uri": "https://localhost:8080/"
        },
        "id": "lLih1XWj2kMp",
        "outputId": "dc2c2e5b-18a2-41ea-e1e0-d243a89ac6ac"
      },
      "source": [
        "# we choose the KNN algorithm \n",
        "\n",
        "param_grid = {'n_neighbors': np.arange(1,29),'metric':['euclidean','manhanttan'] }\n",
        "score = GridSearchCV(KNeighborsClassifier(), param_grid,cv=5)\n",
        "score.fit(X_train,Y_train)\n",
        "score.best_estimator_ , score.best_score_"
      ],
      "execution_count": null,
      "outputs": [
        {
          "output_type": "execute_result",
          "data": {
            "text/plain": [
              "(KNeighborsClassifier(algorithm='auto', leaf_size=30, metric='euclidean',\n",
              "                      metric_params=None, n_jobs=None, n_neighbors=1, p=2,\n",
              "                      weights='uniform'), 0.8400000000000001)"
            ]
          },
          "metadata": {},
          "execution_count": 206
        }
      ]
    },
    {
      "cell_type": "markdown",
      "metadata": {
        "id": "7uc0QCC48uak"
      },
      "source": [
        "4). Augment the training dataset.\n",
        "- Increase the size of the training dataset by introducing slight rotations (clockwise and counterclockwise).\n",
        "\n",
        "---\n",
        "\n",
        "\n",
        "- Use the 'rotate_data()' function defined in the previous step.\n",
        "- No need to augment the testing dataset.\n",
        "- Target approximately five fold aumentation."
      ]
    },
    {
      "cell_type": "code",
      "metadata": {
        "colab": {
          "base_uri": "https://localhost:8080/"
        },
        "id": "fP4P18E4_ROA",
        "outputId": "064ee4f5-d8b0-4fe1-e780-70b39e0ffee0"
      },
      "source": [
        "len(data_train)"
      ],
      "execution_count": null,
      "outputs": [
        {
          "output_type": "execute_result",
          "data": {
            "text/plain": [
              "100"
            ]
          },
          "metadata": {},
          "execution_count": 207
        }
      ]
    },
    {
      "cell_type": "code",
      "metadata": {
        "id": "g_1-jumS8uak"
      },
      "source": [
        "import random \n",
        "\n",
        "random.seed(123)\n",
        "data_train= rotate(data_train,5)\n",
        "x_train = np.array(data_train)\n",
        "y_train = np.array(data_train)\n"
      ],
      "execution_count": null,
      "outputs": []
    },
    {
      "cell_type": "code",
      "metadata": {
        "colab": {
          "base_uri": "https://localhost:8080/"
        },
        "id": "00zrpezvUalP",
        "outputId": "b5d17104-49b5-4d78-e936-9bac06d11786"
      },
      "source": [
        "len(X_train)\n"
      ],
      "execution_count": null,
      "outputs": [
        {
          "output_type": "execute_result",
          "data": {
            "text/plain": [
              "168"
            ]
          },
          "metadata": {},
          "execution_count": 209
        }
      ]
    },
    {
      "cell_type": "markdown",
      "metadata": {
        "id": "FQUw0ib38uak"
      },
      "source": [
        "5). Redo the predictive analysis with the augmented training dataset.\n",
        "\n",
        "- Use the same algorithm as in the step 2).\n",
        "- Calculate the accuracy.\n",
        "- Has the accuracy gone up?"
      ]
    },
    {
      "cell_type": "code",
      "metadata": {
        "id": "OP9CxqDM8ual",
        "colab": {
          "base_uri": "https://localhost:8080/"
        },
        "outputId": "42dd9ef7-ac0b-4fce-df12-0af6f1bfc8d3"
      },
      "source": [
        "# we choose the KNN algorithm \n",
        "param_grid = {'n_neighbors': np.arange(1,29),'metric':['euclidean','manhanttan'] }\n",
        "score = GridSearchCV(KNeighborsClassifier(), param_grid,cv=5)\n",
        "score.fit(X_train, Y_train)\n",
        "score.best_estimator_ , score.best_score_"
      ],
      "execution_count": null,
      "outputs": [
        {
          "output_type": "execute_result",
          "data": {
            "text/plain": [
              "(KNeighborsClassifier(algorithm='auto', leaf_size=30, metric='euclidean',\n",
              "                      metric_params=None, n_jobs=None, n_neighbors=1, p=2,\n",
              "                      weights='uniform'), 0.8400000000000001)"
            ]
          },
          "metadata": {},
          "execution_count": 216
        }
      ]
    }
  ]
}