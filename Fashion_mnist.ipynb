{
  "nbformat": 4,
  "nbformat_minor": 0,
  "metadata": {
    "colab": {
      "name": "Fashion mnist.ipynb",
      "provenance": [],
      "authorship_tag": "ABX9TyMhgrXixq0NZcjVAHMV68gk",
      "include_colab_link": true
    },
    "kernelspec": {
      "name": "python3",
      "display_name": "Python 3"
    },
    "language_info": {
      "name": "python"
    },
    "accelerator": "GPU"
  },
  "cells": [
    {
      "cell_type": "markdown",
      "metadata": {
        "id": "view-in-github",
        "colab_type": "text"
      },
      "source": [
        "<a href=\"https://colab.research.google.com/github/Tiziri-k/SIC-exercices/blob/master/Fashion_mnist.ipynb\" target=\"_parent\"><img src=\"https://colab.research.google.com/assets/colab-badge.svg\" alt=\"Open In Colab\"/></a>"
      ]
    },
    {
      "cell_type": "code",
      "metadata": {
        "id": "g4G86EjnYDsR"
      },
      "source": [
        "import tensorflow as tf\n",
        "from tensorflow.keras.datasets import fashion_mnist\n",
        "import matplotlib.pyplot as plt\n",
        "import numpy as np\n",
        "from keras.models import Sequential\n"
      ],
      "execution_count": null,
      "outputs": []
    },
    {
      "cell_type": "code",
      "metadata": {
        "id": "-Gt-CNtlTM-_"
      },
      "source": [
        "fashion_mnist = tf.keras.datasets.fashion_mnist\n"
      ],
      "execution_count": null,
      "outputs": []
    },
    {
      "cell_type": "code",
      "metadata": {
        "id": "WYT38JgMYHGv"
      },
      "source": [
        "(x_train_validation, y_train_validation), (x_test, y_test) = fashion_mnist.load_data()"
      ],
      "execution_count": null,
      "outputs": []
    },
    {
      "cell_type": "code",
      "metadata": {
        "colab": {
          "base_uri": "https://localhost:8080/"
        },
        "id": "cwbcnuDqF_ha",
        "outputId": "5eb57b9c-72b4-4706-86f9-0b458e366a46"
      },
      "source": [
        "x_train_validation.shape, y_train_validation.shape, x_test.shape,y_test.shape"
      ],
      "execution_count": null,
      "outputs": [
        {
          "output_type": "execute_result",
          "data": {
            "text/plain": [
              "((60000, 28, 28), (60000,), (10000, 28, 28), (10000,))"
            ]
          },
          "metadata": {},
          "execution_count": 9
        }
      ]
    },
    {
      "cell_type": "code",
      "metadata": {
        "id": "eURghah5YHtw"
      },
      "source": [
        "\n",
        "def showImgade(x):\n",
        " for i in range(4):\n",
        "    plt.subplot(1,4,i+1)\n",
        "    #plt.figure(figsize=(2,2))\n",
        "    img = x[i].reshape((28,28))\n",
        "    plt.imshow(img,cmap=\"Greys\")\n",
        "    \n",
        "    \n",
        " plt.show()"
      ],
      "execution_count": null,
      "outputs": []
    },
    {
      "cell_type": "code",
      "metadata": {
        "id": "aMS5mawd9vpx"
      },
      "source": [
        "showImgade(x_train)"
      ],
      "execution_count": null,
      "outputs": []
    },
    {
      "cell_type": "markdown",
      "metadata": {
        "id": "Jwoy83sM-Wng"
      },
      "source": [
        "## Normalize the data "
      ]
    },
    {
      "cell_type": "code",
      "metadata": {
        "id": "qal8cw3gbsta"
      },
      "source": [
        "x_train[0]\n",
        "#we can se that rjb colors are between 0 and 255 that why we should scale it"
      ],
      "execution_count": null,
      "outputs": []
    },
    {
      "cell_type": "code",
      "metadata": {
        "id": "XI7M4hA7S_Qc"
      },
      "source": [
        "x_valid = x_train_validation[-10000:, :, :]\n",
        "y_valid = y_train_validation[-10000:]\n",
        "\n",
        "x_train = x_train_validation[:50000, :, :]\n",
        "y_train = y_train_validation[:50000]"
      ],
      "execution_count": null,
      "outputs": []
    },
    {
      "cell_type": "code",
      "metadata": {
        "id": "Y9-W19q4-ZUg"
      },
      "source": [
        "x_train = tf.keras.utils.normalize(x_train, axis=1)\n",
        "x_test = tf.keras.utils.normalize(x_test, axis=1)\n",
        "x_valid=  tf.keras.utils.normalize(x_valid, axis=1)"
      ],
      "execution_count": null,
      "outputs": []
    },
    {
      "cell_type": "code",
      "metadata": {
        "id": "IJZ6FE56_T9-"
      },
      "source": [
        "x_train[0]"
      ],
      "execution_count": null,
      "outputs": []
    },
    {
      "cell_type": "markdown",
      "metadata": {
        "id": "t7B-lkB0dZRX"
      },
      "source": [
        "## **Keras**"
      ]
    },
    {
      "cell_type": "code",
      "metadata": {
        "colab": {
          "base_uri": "https://localhost:8080/"
        },
        "id": "-_XbKdnLc49l",
        "outputId": "1ef678a1-016f-4148-caae-caae94bff020"
      },
      "source": [
        "model = tf.keras.models.Sequential()\n",
        "model.add(tf.keras.layers.Flatten(input_shape=(28, 28), name='flatten_input'))\n",
        "model.add(tf.keras.layers.Dense(256, activation=tf.nn.relu))\n",
        "model.add(tf.keras.layers.Dense(128, activation=tf.nn.relu))\n",
        "model.add(tf.keras.layers.Dense(10, activation=tf.nn.softmax))\n",
        "model.compile(optimizer = 'adam', loss = 'sparse_categorical_crossentropy', metrics = ['accuracy'])\n",
        "model.fit(x_train, y_train, epochs=5)"
      ],
      "execution_count": null,
      "outputs": [
        {
          "output_type": "stream",
          "text": [
            "Epoch 1/5\n",
            "1563/1563 [==============================] - 6s 4ms/step - loss: 0.4815 - accuracy: 0.8227\n",
            "Epoch 2/5\n",
            "1563/1563 [==============================] - 6s 4ms/step - loss: 0.3553 - accuracy: 0.8690\n",
            "Epoch 3/5\n",
            "1563/1563 [==============================] - 6s 4ms/step - loss: 0.3171 - accuracy: 0.8815\n",
            "Epoch 4/5\n",
            "1563/1563 [==============================] - 6s 4ms/step - loss: 0.2914 - accuracy: 0.8914\n",
            "Epoch 5/5\n",
            "1563/1563 [==============================] - 5s 3ms/step - loss: 0.2720 - accuracy: 0.8975\n"
          ],
          "name": "stdout"
        },
        {
          "output_type": "execute_result",
          "data": {
            "text/plain": [
              "<keras.callbacks.History at 0x7f79cec5e190>"
            ]
          },
          "metadata": {},
          "execution_count": 12
        }
      ]
    },
    {
      "cell_type": "code",
      "metadata": {
        "colab": {
          "base_uri": "https://localhost:8080/"
        },
        "id": "zLiUMNh9R31t",
        "outputId": "8e42738f-9724-427d-acd8-6a6f49a0fffc"
      },
      "source": [
        "val_loss, val_acc= model.evaluate(x_valid, y_valid)\n",
        "print('loss function : ',val_loss,'Acuracy : ',val_acc)"
      ],
      "execution_count": null,
      "outputs": [
        {
          "output_type": "stream",
          "text": [
            "313/313 [==============================] - 1s 2ms/step - loss: 0.3427 - accuracy: 0.8718\n",
            "loss function :  0.34272193908691406 Acuracy :  0.8718000054359436\n"
          ],
          "name": "stdout"
        }
      ]
    },
    {
      "cell_type": "code",
      "metadata": {
        "colab": {
          "base_uri": "https://localhost:8080/"
        },
        "id": "hu9hD3A_Y9wN",
        "outputId": "dfaeed37-cb43-4db8-dba0-f67a453af54f"
      },
      "source": [
        "test_loss, test_acc= model.evaluate(x_test, y_test)\n",
        "print('loss function : ',test_loss,'Acuracy : ',test_acc )"
      ],
      "execution_count": null,
      "outputs": [
        {
          "output_type": "stream",
          "text": [
            "313/313 [==============================] - 1s 2ms/step - loss: 0.3602 - accuracy: 0.8665\n",
            "loss function :  0.3602184057235718 Acuracy :  0.8665000200271606\n"
          ],
          "name": "stdout"
        }
      ]
    }
  ]
}