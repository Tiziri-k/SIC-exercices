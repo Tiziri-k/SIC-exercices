{
  "nbformat": 4,
  "nbformat_minor": 0,
  "metadata": {
    "colab": {
      "name": "xgboost_adaboost.ipynb",
      "provenance": [],
      "include_colab_link": true
    },
    "kernelspec": {
      "display_name": "Python 3",
      "language": "python",
      "name": "python3"
    },
    "language_info": {
      "codemirror_mode": {
        "name": "ipython",
        "version": 3
      },
      "file_extension": ".py",
      "mimetype": "text/x-python",
      "name": "python",
      "nbconvert_exporter": "python",
      "pygments_lexer": "ipython3",
      "version": "3.7.0"
    },
    "toc": {
      "base_numbering": 1,
      "nav_menu": {},
      "number_sections": true,
      "sideBar": true,
      "skip_h1_title": false,
      "title_cell": "Table of Contents",
      "title_sidebar": "Contents",
      "toc_cell": false,
      "toc_position": {},
      "toc_section_display": true,
      "toc_window_display": false
    },
    "varInspector": {
      "cols": {
        "lenName": 16,
        "lenType": 16,
        "lenVar": 40
      },
      "kernels_config": {
        "python": {
          "delete_cmd_postfix": "",
          "delete_cmd_prefix": "del ",
          "library": "var_list.py",
          "varRefreshCmd": "print(var_dic_list())"
        },
        "r": {
          "delete_cmd_postfix": ") ",
          "delete_cmd_prefix": "rm(",
          "library": "var_list.r",
          "varRefreshCmd": "cat(var_dic_list()) "
        }
      },
      "types_to_exclude": [
        "module",
        "function",
        "builtin_function_or_method",
        "instance",
        "_Feature"
      ],
      "window_display": false
    }
  },
  "cells": [
    {
      "cell_type": "markdown",
      "metadata": {
        "id": "view-in-github",
        "colab_type": "text"
      },
      "source": [
        "<a href=\"https://colab.research.google.com/github/Tiziri-k/SIC-exercices/blob/master/xgboost%20%26%20adaboost/xgboost_adaboost.ipynb\" target=\"_parent\"><img src=\"https://colab.research.google.com/assets/colab-badge.svg\" alt=\"Open In Colab\"/></a>"
      ]
    },
    {
      "cell_type": "markdown",
      "metadata": {
        "id": "WrE7vgtnCt6t"
      },
      "source": [
        "## Coding Exercise #0508"
      ]
    },
    {
      "cell_type": "markdown",
      "metadata": {
        "id": "f9UVEUSOCt60"
      },
      "source": [
        "### 1. Bagging ensemble:"
      ]
    },
    {
      "cell_type": "code",
      "metadata": {
        "id": "1NdHPXvMCt63"
      },
      "source": [
        "# Install once.\n",
        "# !pip install xgboost"
      ],
      "execution_count": 1,
      "outputs": []
    },
    {
      "cell_type": "code",
      "metadata": {
        "id": "WdjJMvypCt66"
      },
      "source": [
        "import numpy as np\n",
        "import pandas as pd\n",
        "import warnings \n",
        "import seaborn as sns\n",
        "import matplotlib.pyplot as plt\n",
        "from sklearn.model_selection import train_test_split,GridSearchCV\n",
        "from sklearn.tree import DecisionTreeClassifier\n",
        "from sklearn.ensemble import RandomForestClassifier,AdaBoostClassifier, GradientBoostingClassifier\n",
        "from xgboost import XGBClassifier\n",
        "from sklearn import metrics\n",
        "from sklearn.datasets import load_breast_cancer\n",
        "warnings.filterwarnings(action='ignore')                  # Turn off the warnings."
      ],
      "execution_count": 2,
      "outputs": []
    },
    {
      "cell_type": "markdown",
      "metadata": {
        "id": "gYT3yuLKCt68"
      },
      "source": [
        "#### 1.1. Read in data:"
      ]
    },
    {
      "cell_type": "code",
      "metadata": {
        "id": "_Lp5RP_WCt69"
      },
      "source": [
        "# Load data.\n",
        "data = load_breast_cancer()"
      ],
      "execution_count": 3,
      "outputs": []
    },
    {
      "cell_type": "code",
      "metadata": {
        "colab": {
          "base_uri": "https://localhost:8080/"
        },
        "id": "nqjHSUHUCt6-",
        "outputId": "7aec9015-1f94-4c7a-a289-b15ebd57c2b5"
      },
      "source": [
        "# Explanatory variables.\n",
        "X = data['data']\n",
        "variable_names = data['feature_names']\n",
        "print(variable_names)"
      ],
      "execution_count": 4,
      "outputs": [
        {
          "output_type": "stream",
          "text": [
            "['mean radius' 'mean texture' 'mean perimeter' 'mean area'\n",
            " 'mean smoothness' 'mean compactness' 'mean concavity'\n",
            " 'mean concave points' 'mean symmetry' 'mean fractal dimension'\n",
            " 'radius error' 'texture error' 'perimeter error' 'area error'\n",
            " 'smoothness error' 'compactness error' 'concavity error'\n",
            " 'concave points error' 'symmetry error' 'fractal dimension error'\n",
            " 'worst radius' 'worst texture' 'worst perimeter' 'worst area'\n",
            " 'worst smoothness' 'worst compactness' 'worst concavity'\n",
            " 'worst concave points' 'worst symmetry' 'worst fractal dimension']\n"
          ],
          "name": "stdout"
        }
      ]
    },
    {
      "cell_type": "code",
      "metadata": {
        "colab": {
          "base_uri": "https://localhost:8080/"
        },
        "id": "7kROda45Ct7B",
        "outputId": "3eb7dac6-b84e-4c4d-8a7a-959be60443ad"
      },
      "source": [
        "X.shape"
      ],
      "execution_count": null,
      "outputs": [
        {
          "output_type": "execute_result",
          "data": {
            "text/plain": [
              "(569, 30)"
            ]
          },
          "metadata": {
            "tags": []
          },
          "execution_count": 4
        }
      ]
    },
    {
      "cell_type": "code",
      "metadata": {
        "colab": {
          "base_uri": "https://localhost:8080/"
        },
        "id": "x8MNadYrCt7E",
        "outputId": "5cccb676-a04a-4968-e92e-9805cc2bc44a"
      },
      "source": [
        "# Response variable.\n",
        "# Relabel such that 0 = 'benign' and 1 = malignant.\n",
        "Y = 1 - data['target']\n",
        "label = list(data['target_names'])\n",
        "label.reverse()\n",
        "print(label)"
      ],
      "execution_count": 5,
      "outputs": [
        {
          "output_type": "stream",
          "text": [
            "['benign', 'malignant']\n"
          ],
          "name": "stdout"
        }
      ]
    },
    {
      "cell_type": "code",
      "metadata": {
        "id": "HqFt-c7CCt7L"
      },
      "source": [
        "X_train, X_test, Y_train, Y_test = train_test_split(X, Y, test_size=0.3, random_state=1234)"
      ],
      "execution_count": 6,
      "outputs": []
    },
    {
      "cell_type": "markdown",
      "metadata": {
        "id": "QMgmuK8MCt7N"
      },
      "source": [
        "#### 1.2. Random Forest:"
      ]
    },
    {
      "cell_type": "code",
      "metadata": {
        "colab": {
          "base_uri": "https://localhost:8080/"
        },
        "id": "I8QChaZECt7O",
        "outputId": "678b00fa-aed5-480c-a3e2-8b49d5d44fdf"
      },
      "source": [
        "# Classification by Random Forest.\n",
        "RFC = RandomForestClassifier(n_estimators=100,max_depth=5,min_samples_leaf=2,random_state=123)\n",
        "RFC.fit(X_train, Y_train)\n",
        "Y_pred = RFC.predict(X_test)\n",
        "print( \"Random Forest accuracy : \" + str(np.round(metrics.accuracy_score(Y_test,Y_pred),3)))"
      ],
      "execution_count": 7,
      "outputs": [
        {
          "output_type": "stream",
          "text": [
            "Random Forest accuracy : 0.924\n"
          ],
          "name": "stdout"
        }
      ]
    },
    {
      "cell_type": "code",
      "metadata": {
        "id": "bvZXUk80Ct7O"
      },
      "source": [
        "# Display the top 10 most important variables.\n",
        "variable_importance = pd.Series(RFC.feature_importances_, index = variable_names)\n",
        "top_variables_10 = variable_importance.sort_values(ascending=False)[:10]\n",
        "sns.barplot(x=top_variables_10.values, y = top_variables_10.index, ci=None)\n",
        "plt.show()"
      ],
      "execution_count": null,
      "outputs": []
    },
    {
      "cell_type": "markdown",
      "metadata": {
        "id": "57uhSkAPCt7P"
      },
      "source": [
        "### 2. Boosting Ensemble:"
      ]
    },
    {
      "cell_type": "markdown",
      "metadata": {
        "id": "3oxESkHpCt7Q"
      },
      "source": [
        "#### 2.1.  AdaBoost:\n",
        "\n",
        "Question 1 : Classification by AdaBoost use AdaBoostClassifier(base_estimator=DecisionTreeClassifier(max_depth=10),n_estimators=100,learning_rate=0.01,random_state=123) then fit your training data."
      ]
    },
    {
      "cell_type": "code",
      "metadata": {
        "colab": {
          "base_uri": "https://localhost:8080/"
        },
        "id": "zQbd-F09Ct7R",
        "outputId": "f5c83f70-2f1d-4b43-91d1-801600d0d523"
      },
      "source": [
        "# Classification by AdaBoost.\n",
        "ABC = AdaBoostClassifier(DecisionTreeClassifier(max_depth=10),n_estimators=100,learning_rate=0.01,random_state=123)\n",
        "ABC.fit(X_train, Y_train)\n",
        "Y_pred = ABC.predict(X_test)\n",
        "print( \"AdaBoost accuracy : \" + str(np.round(metrics.accuracy_score(Y_test,Y_pred),3)))"
      ],
      "execution_count": 16,
      "outputs": [
        {
          "output_type": "stream",
          "text": [
            "AdaBoost accuracy : 0.924\n"
          ],
          "name": "stdout"
        }
      ]
    },
    {
      "cell_type": "code",
      "metadata": {
        "id": "SweqWXzyCt7S"
      },
      "source": [
        "# Display the top 10 most important variables.\n",
        "variable_importance = pd.Series(ABC.feature_importances_, index = variable_names)\n",
        "top_variables_10 = variable_importance.sort_values(ascending=False)[:10]\n",
        "sns.barplot(x=top_variables_10.values, y = top_variables_10.index, ci=None)\n",
        "plt.show()"
      ],
      "execution_count": null,
      "outputs": []
    },
    {
      "cell_type": "markdown",
      "metadata": {
        "id": "pdtAb7FRCt7T"
      },
      "source": [
        "#### 2.2.  Gradient Boosting: \n",
        "\n",
        "Question 2: Use Gradient Boosting to classify your data set the parameters to : n_estimators=100,learning_rate=0.01,min_samples_leaf=2,max_leaf_nodes=30,random_state=123"
      ]
    },
    {
      "cell_type": "code",
      "metadata": {
        "id": "Ebou8o9ACt7U",
        "colab": {
          "base_uri": "https://localhost:8080/"
        },
        "outputId": "0fab337e-469b-46a4-86e2-9a26d1f6e48d"
      },
      "source": [
        "# Classification by Gradient Boosting.\n",
        "\n",
        "GBC = GradientBoostingClassifier(n_estimators=100,learning_rate=0.01,min_samples_leaf=2,max_leaf_nodes=30,random_state=123)\n",
        "GBC.fit(X_train, Y_train)\n",
        "Y_pred = GBC.predict(X_test)\n",
        "print( \"Gradient Boosting accuracy : \" + str(np.round(metrics.accuracy_score(Y_test,Y_pred),3)))"
      ],
      "execution_count": 18,
      "outputs": [
        {
          "output_type": "stream",
          "text": [
            "Gradient Boosting accuracy : 0.906\n"
          ],
          "name": "stdout"
        }
      ]
    },
    {
      "cell_type": "code",
      "metadata": {
        "id": "DotoNu1aCt7U",
        "colab": {
          "base_uri": "https://localhost:8080/",
          "height": 265
        },
        "outputId": "f0d5a315-addd-4c64-c811-511e03ac1d5b"
      },
      "source": [
        "# Display the top 10 most important variables.\n",
        "variable_importance = pd.Series(GBC.feature_importances_, index = variable_names)\n",
        "top_variables_10 = variable_importance.sort_values(ascending=False)[:10]\n",
        "sns.barplot(x=top_variables_10.values, y = top_variables_10.index, ci=None)\n",
        "plt.show()"
      ],
      "execution_count": 19,
      "outputs": [
        {
          "output_type": "display_data",
          "data": {
            "image/png": "[encoded data removed]",
            "text/plain": [
              "<Figure size 432x288 with 1 Axes>"
            ]
          },
          "metadata": {
            "tags": [],
            "needs_background": "light"
          }
        }
      ]
    },
    {
      "cell_type": "markdown",
      "metadata": {
        "id": "CqrqB_uACt7V"
      },
      "source": [
        "#### 2.3. XGBoost\n",
        "\n",
        "\n",
        "Question 3 : Use XGBoost to classify your data, set your parametrs to : n_estimator = 500, learning_Rate = 0.1, max_depth = 4, random_state=123"
      ]
    },
    {
      "cell_type": "code",
      "metadata": {
        "id": "jNn1uWVFCt7V",
        "colab": {
          "base_uri": "https://localhost:8080/"
        },
        "outputId": "e96ec116-c6a9-499f-fe80-9ba3d58e7b5e"
      },
      "source": [
        "# Classification by XGBoost.\n",
        "import xgboost as xgb\n",
        "XB = xgb.XGBClassifier(n_estimator = 500, learning_Rate = 0.1, max_depth = 4, random_state=123)\n",
        "XB.fit(X_train, Y_train)\n",
        "Y_pred = XB.predict(X_test)\n",
        "print( \"Gradient Boosting accuracy : \" + str(np.round(metrics.accuracy_score(Y_test,Y_pred),3)))"
      ],
      "execution_count": 25,
      "outputs": [
        {
          "output_type": "stream",
          "text": [
            "Gradient Boosting accuracy : 0.942\n"
          ],
          "name": "stdout"
        }
      ]
    },
    {
      "cell_type": "code",
      "metadata": {
        "id": "JHVGZTWQCt7W",
        "colab": {
          "base_uri": "https://localhost:8080/",
          "height": 265
        },
        "outputId": "ec68d712-5f30-4ef4-a7e9-b86f537bb256"
      },
      "source": [
        "# Display the top 10 most important variables.\n",
        "variable_importance = pd.Series(XB.feature_importances_, index = variable_names)\n",
        "top_variables_10 = variable_importance.sort_values(ascending=False)[:10]\n",
        "sns.barplot(x=top_variables_10.values, y = top_variables_10.index, ci=None)\n",
        "plt.show()"
      ],
      "execution_count": 27,
      "outputs": [
        {
          "output_type": "display_data",
          "data": {
            "image/png": "[encoded data removed]",
            "text/plain": [
              "<Figure size 432x288 with 1 Axes>"
            ]
          },
          "metadata": {
            "tags": [],
            "needs_background": "light"
          }
        }
      ]
    }
  ]
}